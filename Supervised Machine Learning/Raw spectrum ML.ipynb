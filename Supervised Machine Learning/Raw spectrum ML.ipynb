{
 "cells": [
  {
   "cell_type": "code",
   "execution_count": 1,
   "id": "b07d7dc8",
   "metadata": {},
   "outputs": [],
   "source": [
    "import matplotlib.pyplot as plt\n",
    "import numpy as np\n",
    "import os\n",
    "import PIL\n",
    "import tensorflow as tf\n",
    "from tensorflow import keras\n",
    "from tensorflow.keras import layers\n",
    "from tensorflow.keras.models import Sequential\n",
    "from tensorflow.keras import optimizers\n",
    "import h5py\n",
    "import cv2\n",
    "from gwpy.timeseries import TimeSeries"
   ]
  },
  {
   "cell_type": "code",
   "execution_count": 2,
   "id": "8f01b37d",
   "metadata": {},
   "outputs": [],
   "source": [
    "# -- Set a GPS time:\n",
    "t0 = 1126259462.4    # -- GW150914\n",
    "\n",
    "#-- Choose detector as H1, L1, or V1\n",
    "detector = 'H1'"
   ]
  },
  {
   "cell_type": "code",
   "execution_count": 3,
   "id": "0ec9d7df",
   "metadata": {},
   "outputs": [],
   "source": [
    "import requests, os\n",
    "import matplotlib.pyplot as plt\n",
    "%config InlineBackend.figure_format = 'retina'\n",
    "\n",
    "try:\n",
    "    from gwpy.timeseries import TimeSeries\n",
    "except:\n",
    "    ! pip install -q \"gwpy<2.1\"\n",
    "    ! pip install -q \"matplotlib<3.3\"\n",
    "    from gwpy.timeseries import TimeSeries  "
   ]
  },
  {
   "cell_type": "code",
   "execution_count": 4,
   "id": "4aacb296",
   "metadata": {},
   "outputs": [
    {
     "name": "stdout",
     "output_type": "stream",
     "text": [
      "Downloading:  https://www.gw-openscience.org/eventapi/json/GWTC-1-confident/GW150914/v3/H-H1_GWOSC_4KHZ_R1-1126257415-4096.hdf5\n"
     ]
    }
   ],
   "source": [
    "from gwosc.locate import get_urls\n",
    "url = get_urls(detector, t0, t0)[-1]\n",
    "\n",
    "print('Downloading: ' , url)\n",
    "fn = os.path.basename(url)\n",
    "with open(fn,'wb') as strainfile:                 \n",
    "    straindata = requests.get(url)\n",
    "    strainfile.write(straindata.content)"
   ]
  },
  {
   "cell_type": "code",
   "execution_count": 5,
   "id": "d0bc5d1a",
   "metadata": {
    "scrolled": false
   },
   "outputs": [
    {
     "ename": "IORegistryError",
     "evalue": "No reader defined for format 'hdf5.losc' and class 'TimeSeries'.\n\nThe available formats are:\n\n   Format    Read Write Auto-identify\n------------ ---- ----- -------------\n         csv  Yes   Yes           Yes\n         gwf  Yes   Yes           Yes\ngwf.framecpp  Yes   Yes            No\n  gwf.framel  Yes   Yes            No\ngwf.lalframe  Yes   Yes            No\n        hdf5  Yes   Yes           Yes\n  hdf5.gwosc  Yes    No            No\n         txt  Yes   Yes           Yes\n         wav  Yes   Yes           Yes",
     "output_type": "error",
     "traceback": [
      "\u001b[1;31m---------------------------------------------------------------------------\u001b[0m",
      "\u001b[1;31mIORegistryError\u001b[0m                           Traceback (most recent call last)",
      "Input \u001b[1;32mIn [5]\u001b[0m, in \u001b[0;36m<cell line: 2>\u001b[1;34m()\u001b[0m\n\u001b[0;32m      1\u001b[0m \u001b[38;5;66;03m# -- Read strain data\u001b[39;00m\n\u001b[1;32m----> 2\u001b[0m strain \u001b[38;5;241m=\u001b[39m \u001b[43mTimeSeries\u001b[49m\u001b[38;5;241;43m.\u001b[39;49m\u001b[43mread\u001b[49m\u001b[43m(\u001b[49m\u001b[43mfn\u001b[49m\u001b[43m,\u001b[49m\u001b[38;5;28;43mformat\u001b[39;49m\u001b[38;5;241;43m=\u001b[39;49m\u001b[38;5;124;43m'\u001b[39;49m\u001b[38;5;124;43mhdf5.losc\u001b[39;49m\u001b[38;5;124;43m'\u001b[39;49m\u001b[43m)\u001b[49m\n\u001b[0;32m      3\u001b[0m center \u001b[38;5;241m=\u001b[39m \u001b[38;5;28mint\u001b[39m(t0)\n\u001b[0;32m      4\u001b[0m strain \u001b[38;5;241m=\u001b[39m strain\u001b[38;5;241m.\u001b[39mcrop(center\u001b[38;5;241m-\u001b[39m\u001b[38;5;241m16\u001b[39m, center\u001b[38;5;241m+\u001b[39m\u001b[38;5;241m16\u001b[39m)\n",
      "File \u001b[1;32m~\\Anaconda3\\envs\\tensorflow_v2\\lib\\site-packages\\gwpy\\timeseries\\core.py:310\u001b[0m, in \u001b[0;36mTimeSeriesBase.read\u001b[1;34m(cls, source, *args, **kwargs)\u001b[0m\n\u001b[0;32m    263\u001b[0m \u001b[38;5;124;03m\"\"\"Read data into a `TimeSeries`\u001b[39;00m\n\u001b[0;32m    264\u001b[0m \n\u001b[0;32m    265\u001b[0m \u001b[38;5;124;03mArguments and keywords depend on the output format, see the\u001b[39;00m\n\u001b[1;32m   (...)\u001b[0m\n\u001b[0;32m    307\u001b[0m \u001b[38;5;124;03mNotes\u001b[39;00m\n\u001b[0;32m    308\u001b[0m \u001b[38;5;124;03m-----\"\"\"\u001b[39;00m\n\u001b[0;32m    309\u001b[0m \u001b[38;5;28;01mfrom\u001b[39;00m \u001b[38;5;21;01m.\u001b[39;00m\u001b[38;5;21;01mio\u001b[39;00m\u001b[38;5;21;01m.\u001b[39;00m\u001b[38;5;21;01mcore\u001b[39;00m \u001b[38;5;28;01mimport\u001b[39;00m read \u001b[38;5;28;01mas\u001b[39;00m timeseries_reader\n\u001b[1;32m--> 310\u001b[0m \u001b[38;5;28;01mreturn\u001b[39;00m timeseries_reader(\u001b[38;5;28mcls\u001b[39m, source, \u001b[38;5;241m*\u001b[39margs, \u001b[38;5;241m*\u001b[39m\u001b[38;5;241m*\u001b[39mkwargs)\n",
      "File \u001b[1;32m~\\Anaconda3\\envs\\tensorflow_v2\\lib\\site-packages\\gwpy\\timeseries\\io\\core.py:50\u001b[0m, in \u001b[0;36mread\u001b[1;34m(cls, source, *args, **kwargs)\u001b[0m\n\u001b[0;32m     42\u001b[0m joiner \u001b[38;5;241m=\u001b[39m _join_factory(\n\u001b[0;32m     43\u001b[0m     \u001b[38;5;28mcls\u001b[39m,\n\u001b[0;32m     44\u001b[0m     gap,\n\u001b[1;32m   (...)\u001b[0m\n\u001b[0;32m     47\u001b[0m     kwargs\u001b[38;5;241m.\u001b[39mget(\u001b[38;5;124m\"\u001b[39m\u001b[38;5;124mend\u001b[39m\u001b[38;5;124m\"\u001b[39m, \u001b[38;5;28;01mNone\u001b[39;00m),\n\u001b[0;32m     48\u001b[0m )\n\u001b[0;32m     49\u001b[0m \u001b[38;5;66;03m# read\u001b[39;00m\n\u001b[1;32m---> 50\u001b[0m \u001b[38;5;28;01mreturn\u001b[39;00m io_read_multi(joiner, \u001b[38;5;28mcls\u001b[39m, source, \u001b[38;5;241m*\u001b[39margs, \u001b[38;5;241m*\u001b[39m\u001b[38;5;241m*\u001b[39mkwargs)\n",
      "File \u001b[1;32m~\\Anaconda3\\envs\\tensorflow_v2\\lib\\site-packages\\gwpy\\io\\mp.py:90\u001b[0m, in \u001b[0;36mread_multi\u001b[1;34m(flatten, cls, source, *args, **kwargs)\u001b[0m\n\u001b[0;32m     87\u001b[0m inputs \u001b[38;5;241m=\u001b[39m [(f, \u001b[38;5;28mcls\u001b[39m, nproc, args, kwargs) \u001b[38;5;28;01mfor\u001b[39;00m f \u001b[38;5;129;01min\u001b[39;00m files]\n\u001b[0;32m     89\u001b[0m \u001b[38;5;66;03m# read files\u001b[39;00m\n\u001b[1;32m---> 90\u001b[0m output \u001b[38;5;241m=\u001b[39m \u001b[43mmp_utils\u001b[49m\u001b[38;5;241;43m.\u001b[39;49m\u001b[43mmultiprocess_with_queues\u001b[49m\u001b[43m(\u001b[49m\n\u001b[0;32m     91\u001b[0m \u001b[43m    \u001b[49m\u001b[43mnproc\u001b[49m\u001b[43m,\u001b[49m\u001b[43m \u001b[49m\u001b[43m_read_single_file\u001b[49m\u001b[43m,\u001b[49m\u001b[43m \u001b[49m\u001b[43minputs\u001b[49m\u001b[43m,\u001b[49m\u001b[43m \u001b[49m\u001b[43mverbose\u001b[49m\u001b[38;5;241;43m=\u001b[39;49m\u001b[43mverbose\u001b[49m\u001b[43m,\u001b[49m\u001b[43m \u001b[49m\u001b[43munit\u001b[49m\u001b[38;5;241;43m=\u001b[39;49m\u001b[38;5;124;43m'\u001b[39;49m\u001b[38;5;124;43mfiles\u001b[39;49m\u001b[38;5;124;43m'\u001b[39;49m\u001b[43m)\u001b[49m\n\u001b[0;32m     93\u001b[0m \u001b[38;5;66;03m# raise exceptions (from multiprocessing, single process raises inline)\u001b[39;00m\n\u001b[0;32m     94\u001b[0m \u001b[38;5;28;01mfor\u001b[39;00m fobj, exc \u001b[38;5;129;01min\u001b[39;00m output:\n",
      "File \u001b[1;32m~\\Anaconda3\\envs\\tensorflow_v2\\lib\\site-packages\\gwpy\\utils\\mp.py:123\u001b[0m, in \u001b[0;36mmultiprocess_with_queues\u001b[1;34m(nproc, func, inputs, verbose, **progress_kw)\u001b[0m\n\u001b[0;32m    120\u001b[0m             \u001b[38;5;28;01mif\u001b[39;00m pbar:\n\u001b[0;32m    121\u001b[0m                 pbar\u001b[38;5;241m.\u001b[39mupdate(\u001b[38;5;241m1\u001b[39m)\n\u001b[1;32m--> 123\u001b[0m     \u001b[38;5;28;01mreturn\u001b[39;00m \u001b[38;5;28;43mlist\u001b[39;49m\u001b[43m(\u001b[49m\u001b[38;5;28;43mmap\u001b[39;49m\u001b[43m(\u001b[49m\u001b[43m_inner\u001b[49m\u001b[43m,\u001b[49m\u001b[43m \u001b[49m\u001b[43minputs\u001b[49m\u001b[43m)\u001b[49m\u001b[43m)\u001b[49m\n\u001b[0;32m    125\u001b[0m \u001b[38;5;66;03m# -------------------------------------------\u001b[39;00m\n\u001b[0;32m    126\u001b[0m \n\u001b[0;32m    127\u001b[0m \u001b[38;5;66;03m# create input and output queues\u001b[39;00m\n\u001b[0;32m    128\u001b[0m q_in \u001b[38;5;241m=\u001b[39m Queue()\n",
      "File \u001b[1;32m~\\Anaconda3\\envs\\tensorflow_v2\\lib\\site-packages\\gwpy\\utils\\mp.py:118\u001b[0m, in \u001b[0;36mmultiprocess_with_queues.<locals>._inner\u001b[1;34m(x)\u001b[0m\n\u001b[0;32m    116\u001b[0m \u001b[38;5;28;01mdef\u001b[39;00m \u001b[38;5;21m_inner\u001b[39m(x):\n\u001b[0;32m    117\u001b[0m     \u001b[38;5;28;01mtry\u001b[39;00m:\n\u001b[1;32m--> 118\u001b[0m         \u001b[38;5;28;01mreturn\u001b[39;00m \u001b[43mfunc\u001b[49m\u001b[43m(\u001b[49m\u001b[43mx\u001b[49m\u001b[43m)\u001b[49m\n\u001b[0;32m    119\u001b[0m     \u001b[38;5;28;01mfinally\u001b[39;00m:\n\u001b[0;32m    120\u001b[0m         \u001b[38;5;28;01mif\u001b[39;00m pbar:\n",
      "File \u001b[1;32m~\\Anaconda3\\envs\\tensorflow_v2\\lib\\site-packages\\gwpy\\io\\mp.py:119\u001b[0m, in \u001b[0;36m_read_single_file\u001b[1;34m(bundle)\u001b[0m\n\u001b[0;32m    117\u001b[0m fobj, \u001b[38;5;28mcls\u001b[39m, nproc, args, kwargs \u001b[38;5;241m=\u001b[39m bundle\n\u001b[0;32m    118\u001b[0m \u001b[38;5;28;01mtry\u001b[39;00m:\n\u001b[1;32m--> 119\u001b[0m     \u001b[38;5;28;01mreturn\u001b[39;00m fobj, io_read(\u001b[38;5;28mcls\u001b[39m, fobj, \u001b[38;5;241m*\u001b[39margs, \u001b[38;5;241m*\u001b[39m\u001b[38;5;241m*\u001b[39mkwargs)\n\u001b[0;32m    120\u001b[0m \u001b[38;5;66;03m# pylint: disable=broad-except,redefine-in-handler\u001b[39;00m\n\u001b[0;32m    121\u001b[0m \u001b[38;5;28;01mexcept\u001b[39;00m \u001b[38;5;167;01mException\u001b[39;00m \u001b[38;5;28;01mas\u001b[39;00m exc:\n",
      "File \u001b[1;32m~\\Anaconda3\\envs\\tensorflow_v2\\lib\\site-packages\\astropy\\io\\registry\\compat.py:43\u001b[0m, in \u001b[0;36m_make_io_func.<locals>.wrapper\u001b[1;34m(registry, *args, **kwargs)\u001b[0m\n\u001b[0;32m     41\u001b[0m     registry \u001b[38;5;241m=\u001b[39m default_registry\n\u001b[0;32m     42\u001b[0m \u001b[38;5;66;03m# get and call bound method from registry instance\u001b[39;00m\n\u001b[1;32m---> 43\u001b[0m \u001b[38;5;28;01mreturn\u001b[39;00m \u001b[38;5;28mgetattr\u001b[39m(registry, method_name)(\u001b[38;5;241m*\u001b[39margs, \u001b[38;5;241m*\u001b[39m\u001b[38;5;241m*\u001b[39mkwargs)\n",
      "File \u001b[1;32m~\\Anaconda3\\envs\\tensorflow_v2\\lib\\site-packages\\astropy\\io\\registry\\core.py:211\u001b[0m, in \u001b[0;36mUnifiedInputRegistry.read\u001b[1;34m(self, cls, format, cache, *args, **kwargs)\u001b[0m\n\u001b[0;32m    206\u001b[0m             fileobj \u001b[38;5;241m=\u001b[39m args[\u001b[38;5;241m0\u001b[39m]\n\u001b[0;32m    208\u001b[0m     \u001b[38;5;28mformat\u001b[39m \u001b[38;5;241m=\u001b[39m \u001b[38;5;28mself\u001b[39m\u001b[38;5;241m.\u001b[39m_get_valid_format(\n\u001b[0;32m    209\u001b[0m         \u001b[38;5;124m'\u001b[39m\u001b[38;5;124mread\u001b[39m\u001b[38;5;124m'\u001b[39m, \u001b[38;5;28mcls\u001b[39m, path, fileobj, args, kwargs)\n\u001b[1;32m--> 211\u001b[0m reader \u001b[38;5;241m=\u001b[39m \u001b[38;5;28;43mself\u001b[39;49m\u001b[38;5;241;43m.\u001b[39;49m\u001b[43mget_reader\u001b[49m\u001b[43m(\u001b[49m\u001b[38;5;28;43mformat\u001b[39;49m\u001b[43m,\u001b[49m\u001b[43m \u001b[49m\u001b[38;5;28;43mcls\u001b[39;49m\u001b[43m)\u001b[49m\n\u001b[0;32m    212\u001b[0m data \u001b[38;5;241m=\u001b[39m reader(\u001b[38;5;241m*\u001b[39margs, \u001b[38;5;241m*\u001b[39m\u001b[38;5;241m*\u001b[39mkwargs)\n\u001b[0;32m    214\u001b[0m \u001b[38;5;28;01mif\u001b[39;00m \u001b[38;5;129;01mnot\u001b[39;00m \u001b[38;5;28misinstance\u001b[39m(data, \u001b[38;5;28mcls\u001b[39m):\n\u001b[0;32m    215\u001b[0m     \u001b[38;5;66;03m# User has read with a subclass where only the parent class is\u001b[39;00m\n\u001b[0;32m    216\u001b[0m     \u001b[38;5;66;03m# registered.  This returns the parent class, so try coercing\u001b[39;00m\n\u001b[0;32m    217\u001b[0m     \u001b[38;5;66;03m# to desired subclass.\u001b[39;00m\n",
      "File \u001b[1;32m~\\Anaconda3\\envs\\tensorflow_v2\\lib\\site-packages\\astropy\\io\\registry\\core.py:153\u001b[0m, in \u001b[0;36mUnifiedInputRegistry.get_reader\u001b[1;34m(self, data_format, data_class)\u001b[0m\n\u001b[0;32m    151\u001b[0m \u001b[38;5;28;01melse\u001b[39;00m:\n\u001b[0;32m    152\u001b[0m     format_table_str \u001b[38;5;241m=\u001b[39m \u001b[38;5;28mself\u001b[39m\u001b[38;5;241m.\u001b[39m_get_format_table_str(data_class, \u001b[38;5;124m'\u001b[39m\u001b[38;5;124mRead\u001b[39m\u001b[38;5;124m'\u001b[39m)\n\u001b[1;32m--> 153\u001b[0m     \u001b[38;5;28;01mraise\u001b[39;00m IORegistryError(\n\u001b[0;32m    154\u001b[0m         \u001b[38;5;124m\"\u001b[39m\u001b[38;5;124mNo reader defined for format \u001b[39m\u001b[38;5;124m'\u001b[39m\u001b[38;5;132;01m{}\u001b[39;00m\u001b[38;5;124m'\u001b[39m\u001b[38;5;124m and class \u001b[39m\u001b[38;5;124m'\u001b[39m\u001b[38;5;132;01m{}\u001b[39;00m\u001b[38;5;124m'\u001b[39m\u001b[38;5;124m.\u001b[39m\u001b[38;5;130;01m\\n\u001b[39;00m\u001b[38;5;130;01m\\n\u001b[39;00m\u001b[38;5;124mThe \u001b[39m\u001b[38;5;124m\"\u001b[39m\n\u001b[0;32m    155\u001b[0m         \u001b[38;5;124m\"\u001b[39m\u001b[38;5;124mavailable formats are:\u001b[39m\u001b[38;5;130;01m\\n\u001b[39;00m\u001b[38;5;130;01m\\n\u001b[39;00m\u001b[38;5;132;01m{}\u001b[39;00m\u001b[38;5;124m\"\u001b[39m\u001b[38;5;241m.\u001b[39mformat(\n\u001b[0;32m    156\u001b[0m             data_format, data_class\u001b[38;5;241m.\u001b[39m\u001b[38;5;18m__name__\u001b[39m, format_table_str))\n",
      "\u001b[1;31mIORegistryError\u001b[0m: No reader defined for format 'hdf5.losc' and class 'TimeSeries'.\n\nThe available formats are:\n\n   Format    Read Write Auto-identify\n------------ ---- ----- -------------\n         csv  Yes   Yes           Yes\n         gwf  Yes   Yes           Yes\ngwf.framecpp  Yes   Yes            No\n  gwf.framel  Yes   Yes            No\ngwf.lalframe  Yes   Yes            No\n        hdf5  Yes   Yes           Yes\n  hdf5.gwosc  Yes    No            No\n         txt  Yes   Yes           Yes\n         wav  Yes   Yes           Yes"
     ]
    }
   ],
   "source": [
    "# -- Read strain data\n",
    "strain = TimeSeries.read(fn,format='hdf5.losc')\n",
    "center = int(t0)\n",
    "strain = strain.crop(center-16, center+16)\n",
    "fig1 = strain.plot()"
   ]
  },
  {
   "cell_type": "code",
   "execution_count": null,
   "id": "f4430c56",
   "metadata": {},
   "outputs": [],
   "source": [
    "# -- Plot ASD\n",
    "fig2 = strain.asd(fftlength=8).plot()\n",
    "plt.xlim(10,2000)\n",
    "plt.ylim(1e-24, 1e-19)"
   ]
  }
 ],
 "metadata": {
  "kernelspec": {
   "display_name": "Python 3 (ipykernel)",
   "language": "python",
   "name": "python3"
  },
  "language_info": {
   "codemirror_mode": {
    "name": "ipython",
    "version": 3
   },
   "file_extension": ".py",
   "mimetype": "text/x-python",
   "name": "python",
   "nbconvert_exporter": "python",
   "pygments_lexer": "ipython3",
   "version": "3.9.13"
  }
 },
 "nbformat": 4,
 "nbformat_minor": 5
}
