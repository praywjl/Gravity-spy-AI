{
 "cells": [
  {
   "cell_type": "code",
   "execution_count": 1,
   "id": "28043d31",
   "metadata": {},
   "outputs": [],
   "source": [
    "from PIL import Image\n",
    "import numpy as np"
   ]
  },
  {
   "cell_type": "code",
   "execution_count": null,
   "id": "8058f511",
   "metadata": {},
   "outputs": [],
   "source": [
    "IMG_DIR = f'../datasets/images'\n",
    "img_path = os.path.join(IMG_DIR, file_name + '.jpg')\n",
    "\n",
    "img = np.array(Image.open(img_path))"
   ]
  }
 ],
 "metadata": {
  "kernelspec": {
   "display_name": "Python 3 (ipykernel)",
   "language": "python",
   "name": "python3"
  },
  "language_info": {
   "codemirror_mode": {
    "name": "ipython",
    "version": 3
   },
   "file_extension": ".py",
   "mimetype": "text/x-python",
   "name": "python",
   "nbconvert_exporter": "python",
   "pygments_lexer": "ipython3",
   "version": "3.9.13"
  }
 },
 "nbformat": 4,
 "nbformat_minor": 5
}
