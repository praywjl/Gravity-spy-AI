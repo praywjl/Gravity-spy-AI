{
 "cells": [
  {
   "cell_type": "code",
   "execution_count": 28,
   "id": "aeb6918a",
   "metadata": {},
   "outputs": [],
   "source": [
    "import h5py\n",
    "import datetime as dt\n",
    "import cv2\n",
    "import numpy as np\n",
    "import os\n",
    "import fnmatch\n",
    "import matplotlib.pyplot as plt\n",
    "import matplotlib.image as img\n",
    "from PIL import Image"
   ]
  },
  {
   "cell_type": "code",
   "execution_count": 17,
   "id": "7631d9f9",
   "metadata": {},
   "outputs": [
    {
     "name": "stdout",
     "output_type": "stream",
     "text": [
      "<KeysViewHDF5 ['0.5.png', '1.0.png', '2.0.png', '4.0.png']>\n"
     ]
    }
   ],
   "source": [
    "f = h5py.File('trainingsetv1d0.h5', 'r')\n",
    "\n",
    "print(f['1080Lines']['test']['0Lojrrjlme'].keys())"
   ]
  },
  {
   "cell_type": "code",
   "execution_count": 9,
   "id": "c8943f5f",
   "metadata": {},
   "outputs": [
    {
     "data": {
      "text/plain": [
       "<HDF5 dataset \"0.5.png\": shape (1, 140, 170), type \"<f4\">"
      ]
     },
     "execution_count": 9,
     "metadata": {},
     "output_type": "execute_result"
    }
   ],
   "source": [
    "f['1080Lines']['test']['0Lojrrjlme']['0.5.png']"
   ]
  },
  {
   "cell_type": "code",
   "execution_count": 10,
   "id": "f3b1cb23",
   "metadata": {},
   "outputs": [
    {
     "name": "stdout",
     "output_type": "stream",
     "text": [
      "/1080Lines\n",
      "<HDF5 group \"/1080Lines\" (3 members)>\n",
      "/1400Ripples\n",
      "<HDF5 group \"/1400Ripples\" (3 members)>\n",
      "/Air_Compressor\n",
      "<HDF5 group \"/Air_Compressor\" (3 members)>\n",
      "/Blip\n",
      "<HDF5 group \"/Blip\" (3 members)>\n",
      "/Chirp\n",
      "<HDF5 group \"/Chirp\" (3 members)>\n",
      "/Extremely_Loud\n",
      "<HDF5 group \"/Extremely_Loud\" (3 members)>\n",
      "/Helix\n",
      "<HDF5 group \"/Helix\" (3 members)>\n",
      "/Koi_Fish\n",
      "<HDF5 group \"/Koi_Fish\" (3 members)>\n",
      "/Light_Modulation\n",
      "<HDF5 group \"/Light_Modulation\" (3 members)>\n",
      "/Low_Frequency_Burst\n",
      "<HDF5 group \"/Low_Frequency_Burst\" (3 members)>\n",
      "/Low_Frequency_Lines\n",
      "<HDF5 group \"/Low_Frequency_Lines\" (3 members)>\n",
      "/No_Glitch\n",
      "<HDF5 group \"/No_Glitch\" (3 members)>\n",
      "/None_of_the_Above\n",
      "<HDF5 group \"/None_of_the_Above\" (3 members)>\n",
      "/Paired_Doves\n",
      "<HDF5 group \"/Paired_Doves\" (3 members)>\n",
      "/Power_Line\n",
      "<HDF5 group \"/Power_Line\" (3 members)>\n",
      "/Repeating_Blips\n",
      "<HDF5 group \"/Repeating_Blips\" (3 members)>\n",
      "/Scattered_Light\n",
      "<HDF5 group \"/Scattered_Light\" (3 members)>\n",
      "/Scratchy\n",
      "<HDF5 group \"/Scratchy\" (3 members)>\n",
      "/Tomte\n",
      "<HDF5 group \"/Tomte\" (3 members)>\n",
      "/Violin_Mode\n",
      "<HDF5 group \"/Violin_Mode\" (3 members)>\n",
      "/Wandering_Line\n",
      "<HDF5 group \"/Wandering_Line\" (3 members)>\n",
      "/Whistle\n",
      "<HDF5 group \"/Whistle\" (3 members)>\n"
     ]
    }
   ],
   "source": [
    "f = h5py.File('trainingsetv1d0.h5', 'r')\n",
    "\n",
    "for key in f.keys():\n",
    "    print(f[key].name)\n",
    "    print(f[key])"
   ]
  },
  {
   "cell_type": "code",
   "execution_count": 22,
   "id": "85aee011",
   "metadata": {
    "scrolled": false
   },
   "outputs": [
    {
     "name": "stdout",
     "output_type": "stream",
     "text": [
      "[[0.13733548 0.12756088 0.12923469 ... 0.12544493 0.11392944 0.12916133]\n",
      " [0.13152261 0.10703795 0.09600375 ... 0.14972022 0.09473844 0.09722944]\n",
      " [0.08483434 0.10654609 0.13528761 ... 0.12482796 0.08985194 0.10106625]\n",
      " ...\n",
      " [0.1520418  0.15337974 0.15550873 ... 0.10262123 0.10057538 0.10216707]\n",
      " [0.14577287 0.1484211  0.14900266 ... 0.09640902 0.09640902 0.09640902]\n",
      " [0.09859176 0.10078784 0.10171518 ... 0.09877075 0.0992262  0.0992262 ]]\n"
     ]
    }
   ],
   "source": [
    "# for key in f['1080Lines']['test']['0Lojrrjlme'].keys():\n",
    "#     print(f['1080Lines']['test']['0Lojrrjlme'][key])\n",
    "#     print(f['1080Lines']['test']['0Lojrrjlme'][key])\n",
    "# print(f.keys())\n",
    "# print(f['1080Lines']['train'].keys())\n",
    "# print(f['1080Lines']['test'])\n",
    "# print(f['1080Lines']['validation'])\n",
    "a = np.array(f['1080Lines']['test']['0Lojrrjlme']['0.5.png'][0])\n",
    "print(a)\n",
    "# print(a[0])\n",
    "# print(type(a[0,0,0]))\n",
    "# print(f['1080Lines']['test'].keys())"
   ]
  },
  {
   "cell_type": "code",
   "execution_count": 30,
   "id": "9456155b",
   "metadata": {},
   "outputs": [],
   "source": [
    "# Normalize array into 255\n",
    "a *= (255.0/a.max())"
   ]
  },
  {
   "cell_type": "code",
   "execution_count": 38,
   "id": "7b0d584b",
   "metadata": {},
   "outputs": [],
   "source": [
    "img = Image.fromarray(a)\n",
    "img.show()"
   ]
  },
  {
   "cell_type": "code",
   "execution_count": 14,
   "id": "3af59671",
   "metadata": {},
   "outputs": [],
   "source": [
    "# np.savetxt('filename',a[0])"
   ]
  },
  {
   "cell_type": "code",
   "execution_count": 90,
   "id": "1fa721c1",
   "metadata": {},
   "outputs": [
    {
     "name": "stdout",
     "output_type": "stream",
     "text": [
      "23800\n"
     ]
    }
   ],
   "source": [
    "a = np.array(f['1080Lines']['test']['0Lojrrjlme']['0.5.png'])\n",
    "a = a.flatten()\n",
    "print(len(a))"
   ]
  },
  {
   "cell_type": "code",
   "execution_count": 98,
   "id": "7693dfb9",
   "metadata": {},
   "outputs": [
    {
     "data": {
      "text/plain": [
       "range(0, 3)"
      ]
     },
     "execution_count": 98,
     "metadata": {},
     "output_type": "execute_result"
    }
   ],
   "source": [
    "a = np.zeros((3,22,1,3))\n",
    "# print(a)\n",
    "# print(a[0][0])\n",
    "# print(np.array([1]))\n",
    "# print(a)\n",
    "# print(a)\n",
    "# print(type(a[0][0]))\n",
    "\n",
    "range(len(a[0][0][0]))"
   ]
  }
 ],
 "metadata": {
  "kernelspec": {
   "display_name": "Python 3 (ipykernel)",
   "language": "python",
   "name": "python3"
  },
  "language_info": {
   "codemirror_mode": {
    "name": "ipython",
    "version": 3
   },
   "file_extension": ".py",
   "mimetype": "text/x-python",
   "name": "python",
   "nbconvert_exporter": "python",
   "pygments_lexer": "ipython3",
   "version": "3.9.13"
  }
 },
 "nbformat": 4,
 "nbformat_minor": 5
}
