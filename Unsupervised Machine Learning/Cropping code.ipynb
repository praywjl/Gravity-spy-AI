{
 "cells": [
  {
   "cell_type": "code",
   "execution_count": 1,
   "id": "13b6e071",
   "metadata": {},
   "outputs": [],
   "source": [
    "import cv2\n",
    "import os\n",
    "import numpy as np\n",
    "from PIL import Image"
   ]
  },
  {
   "cell_type": "code",
   "execution_count": 3,
   "id": "daa9a7e9",
   "metadata": {},
   "outputs": [],
   "source": [
    "cdata_dir1 = '/Users/CAL/Desktop/Lab/H1L1_G_time_labeled/1080Lines/4s_c'\n",
    "cdata_dir2 = '/Users/CAL/Desktop/Lab/H1L1_G_time_labeled/Power_Line/4s_c'\n",
    "cpath = [cdata_dir1, cdata_dir2]\n",
    "gdata_dir1 = '/Users/CAL/Desktop/Lab/H1L1_G_time_labeled/1080Lines/4s'\n",
    "gdata_dir2 = '/Users/CAL/Desktop/Lab/H1L1_G_time_labeled/Power_Line/4s'\n",
    "gpath = [gdata_dir1, gdata_dir2]"
   ]
  },
  {
   "cell_type": "code",
   "execution_count": null,
   "id": "6ed6e1a7",
   "metadata": {},
   "outputs": [],
   "source": [
    "def image_crop( infilename, save_path):\n",
    "\n",
    "#     image file 와 crop한이미지를 저장할 path 을 입력받아 crop_img를 저장한다.\n",
    "#     :param infilename:\n",
    "#         crop할 대상 image file 입력으로 넣는다.\n",
    "#     :param save_path:\n",
    "#         crop_image file의 저장 경로를 넣는다.\n",
    "#     :return:\n",
    " \n",
    "    img = Image.open( infilename )\n",
    "    (img_h, img_w) = img.size\n",
    "    print(img.size)\n",
    " \n",
    "    # crop 할 사이즈 : grid_w, grid_h\n",
    "    grid_w = 96 # crop width\n",
    "    grid_h = 96 # crop height\n",
    "    range_w = (int)(img_w/grid_w)\n",
    "    range_h = (int)(img_h/grid_h)\n",
    "    print(range_w, range_h)\n",
    " \n",
    "    i = 0\n",
    " \n",
    "    for w in range(range_w):\n",
    "        for h in range(range_h):\n",
    "            bbox = (h*grid_h, w*grid_w, (h+1)*(grid_h), (w+1)*(grid_w))\n",
    "            print(h*grid_h, w*grid_w, (h+1)*(grid_h), (w+1)*(grid_w))\n",
    "            # 가로 세로 시작, 가로 세로 끝\n",
    "            crop_img = img.crop(bbox)\n",
    " \n",
    "            fname = \"{}.jpg\".format(\"{0:05d}\".format(i))\n",
    "            savename = save_path + fname\n",
    "            crop_img.save(savename)\n",
    "            print('save file ' + savename + '....')\n",
    "            i += 1\n",
    " \n",
    "if __name__ == '__main__':\n",
    "    image_crop('t_960.jpg', 'H:/SRGAN_DC/test_save/')\n",
    "\n"
   ]
  }
 ],
 "metadata": {
  "kernelspec": {
   "display_name": "Python 3 (ipykernel)",
   "language": "python",
   "name": "python3"
  },
  "language_info": {
   "codemirror_mode": {
    "name": "ipython",
    "version": 3
   },
   "file_extension": ".py",
   "mimetype": "text/x-python",
   "name": "python",
   "nbconvert_exporter": "python",
   "pygments_lexer": "ipython3",
   "version": "3.9.16"
  }
 },
 "nbformat": 4,
 "nbformat_minor": 5
}
