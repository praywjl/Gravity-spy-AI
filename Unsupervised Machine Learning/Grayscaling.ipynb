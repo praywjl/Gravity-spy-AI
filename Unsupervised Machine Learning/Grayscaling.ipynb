{
 "cells": [
  {
   "cell_type": "code",
   "execution_count": 1,
   "id": "49ba0c93",
   "metadata": {},
   "outputs": [],
   "source": [
    "import cv2\n",
    "import os\n",
    "import numpy as np\n",
    "from PIL import Image"
   ]
  },
  {
   "cell_type": "code",
   "execution_count": 2,
   "id": "59d5383f",
   "metadata": {},
   "outputs": [],
   "source": [
    "# data_dir1 = '/Users/CAL/Desktop/Lab/H1L1/1080Lines'\n",
    "# data_dir2 = '/Users/CAL/Desktop/Lab/H1L1/1400Ripples'\n",
    "# data_dir3 = '/Users/CAL/Desktop/Lab/H1L1/Air_Compressor'\n",
    "# data_dir4 = '/Users/CAL/Desktop/Lab/H1L1/Blip'\n",
    "# data_dir5 = '/Users/CAL/Desktop/Lab/H1L1/Chirp'\n",
    "# data_dir6 = '/Users/CAL/Desktop/Lab/H1L1/Extremely_Loud'\n",
    "# data_dir7 = '/Users/CAL/Desktop/Lab/H1L1/Helix'\n",
    "# data_dir8 = '/Users/CAL/Desktop/Lab/H1L1/Koi_Fish'\n",
    "# data_dir9 = '/Users/CAL/Desktop/Lab/H1L1/Light_Modulation'\n",
    "# data_dir10 = '/Users/CAL/Desktop/Lab/H1L1/Low_Frequency_Lines'\n",
    "# data_dir11 = '/Users/CAL/Desktop/Lab/H1L1/No_Glitch'\n",
    "# data_dir12 = '/Users/CAL/Desktop/Lab/H1L1/None_of_the_Above'\n",
    "# data_dir13 = '/Users/CAL/Desktop/Lab/H1L1/Paired_Doves'\n",
    "# data_dir14 = '/Users/CAL/Desktop/Lab/H1L1/Power_line'\n",
    "# data_dir15 = '/Users/CAL/Desktop/Lab/H1L1/Repeating_Blips'\n",
    "# data_dir16 = '/Users/CAL/Desktop/Lab/H1L1/Scattered_Light'\n",
    "# data_dir17 = '/Users/CAL/Desktop/Lab/H1L1/Scratchy'\n",
    "# data_dir18 = '/Users/CAL/Desktop/Lab/H1L1/Tomte'\n",
    "# data_dir19 = '/Users/CAL/Desktop/Lab/H1L1/Violin_Mode'\n",
    "# data_dir20 = '/Users/CAL/Desktop/Lab/H1L1/Wandering_Line'\n",
    "# data_dir21 = '/Users/CAL/Desktop/Lab/H1L1/Whistle'\n",
    "# path = [data_dir1, data_dir2, data_dir3, data_dir4, data_dir5, data_dir6, data_dir7, data_dir8, data_dir9, data_dir10,\n",
    "#            data_dir11, data_dir12, data_dir13, data_dir14, data_dir15, data_dir16, data_dir17, data_dir18, data_dir19,\n",
    "#            data_dir20, data_dir21]\n",
    "# gdata_dir1 = '/Users/CAL/Desktop/Lab/H1L1_G_label/1080Lines/'\n",
    "# gdata_dir2 = '/Users/CAL/Desktop/Lab/H1L1_G_label/1400Ripples/'\n",
    "# gdata_dir3 = '/Users/CAL/Desktop/Lab/H1L1_G_label/Air_Compressor/'\n",
    "# gdata_dir4 = '/Users/CAL/Desktop/Lab/H1L1_G_label/Blip/'\n",
    "# gdata_dir5 = '/Users/CAL/Desktop/Lab/H1L1_G_label/Chirp/'\n",
    "# gdata_dir6 = '/Users/CAL/Desktop/Lab/H1L1_G_label/Extremely_Loud/'\n",
    "# gdata_dir7 = '/Users/CAL/Desktop/Lab/H1L1_G_label/Helix/'\n",
    "# gdata_dir8 = '/Users/CAL/Desktop/Lab/H1L1_G_label/Koi_Fish/'\n",
    "# gdata_dir9 = '/Users/CAL/Desktop/Lab/H1L1_G_label/Light_Modulation/'\n",
    "# gdata_dir10 = '/Users/CAL/Desktop/Lab/H1L1_G_label/Low_Frequency_Lines/'\n",
    "# gdata_dir11 = '/Users/CAL/Desktop/Lab/H1L1_G_label/No_Glitch/'\n",
    "# gdata_dir12 = '/Users/CAL/Desktop/Lab/H1L1_G_label/None_of_the_Above/'\n",
    "# gdata_dir13 = '/Users/CAL/Desktop/Lab/H1L1_G_label/Paired_Doves/'\n",
    "# gdata_dir14 = '/Users/CAL/Desktop/Lab/H1L1_G_label/Power_line/'\n",
    "# gdata_dir15 = '/Users/CAL/Desktop/Lab/H1L1_G_label/Repeating_Blips/'\n",
    "# gdata_dir16 = '/Users/CAL/Desktop/Lab/H1L1_G_label/Scattered_Light/'\n",
    "# gdata_dir17 = '/Users/CAL/Desktop/Lab/H1L1_G_label/Scratchy/'\n",
    "# gdata_dir18 = '/Users/CAL/Desktop/Lab/H1L1_G_label/Tomte/'\n",
    "# gdata_dir19 = '/Users/CAL/Desktop/Lab/H1L1_G_label/Violin_Mode/'\n",
    "# gdata_dir20 = '/Users/CAL/Desktop/Lab/H1L1_G_label/Wandering_Line/'\n",
    "# gdata_dir21 = '/Users/CAL/Desktop/Lab/H1L1_G_label/Whistle/'\n",
    "# gpath = [gdata_dir1, gdata_dir2, gdata_dir3, gdata_dir4, gdata_dir5, gdata_dir6, gdata_dir7, gdata_dir8, gdata_dir9,\n",
    "#          gdata_dir10, gdata_dir11, gdata_dir12, gdata_dir13, gdata_dir14, gdata_dir15, gdata_dir16, gdata_dir17, gdata_dir18,\n",
    "#          gdata_dir19, gdata_dir20, gdata_dir21]"
   ]
  },
  {
   "cell_type": "code",
   "execution_count": 3,
   "id": "aafed040",
   "metadata": {},
   "outputs": [],
   "source": [
    "data_dir1 = '/Users/CAL/Desktop/Lab/H1L1_time_labeled/1080Lines/4s'\n",
    "data_dir2 = '/Users/CAL/Desktop/Lab/H1L1_time_labeled/Power_Line/4s'\n",
    "path = [data_dir1, data_dir2]\n",
    "gdata_dir1 = '/Users/CAL/Desktop/Lab/H1L1_G_time_labeled/1080Lines/4s'\n",
    "gdata_dir2 = '/Users/CAL/Desktop/Lab/H1L1_G_time_labeled/Power_Line/4s'\n",
    "gpath = [gdata_dir1, gdata_dir2]"
   ]
  },
  {
   "cell_type": "code",
   "execution_count": 4,
   "id": "325b1be8",
   "metadata": {},
   "outputs": [],
   "source": [
    "# kdata_dir1 = '/Users/CAL/Desktop/Lab/KAGRA data/Blip-like'\n",
    "# kdata_dir2 = '/Users/CAL/Desktop/Lab/KAGRA data/LF'\n",
    "# kdata_dir3 = '/Users/CAL/Desktop/Lab/KAGRA data/Line-like'\n",
    "# kdata_dir4 = '/Users/CAL/Desktop/Lab/KAGRA data/Spire-like'\n",
    "# kpath = [kdata_dir1, kdata_dir2, kdata_dir3, kdata_dir4]\n",
    "\n",
    "# kgdata_dir1 = '/Users/CAL/Desktop/Lab/KAGRA data/Blip-like_G/'\n",
    "# kgdata_dir2 = '/Users/CAL/Desktop/Lab/KAGRA data/LF_G/'\n",
    "# kgdata_dir3 = '/Users/CAL/Desktop/Lab/KAGRA data/Line-like_G/'\n",
    "# kgdata_dir4 = '/Users/CAL/Desktop/Lab/KAGRA data/Spire-like_G/'\n",
    "# kgpath = [kgdata_dir1, kgdata_dir2, kgdata_dir3, kgdata_dir4]"
   ]
  },
  {
   "cell_type": "code",
   "execution_count": 5,
   "id": "dfcfed99",
   "metadata": {},
   "outputs": [
    {
     "name": "stdout",
     "output_type": "stream",
     "text": [
      "All Done\n"
     ]
    }
   ],
   "source": [
    "# path = '/Users/CAL/Desktop/Lab/H1L1_A'\n",
    "num_cat = 2\n",
    "for i in range(num_cat):\n",
    "    Path = path[i]\n",
    "    imagePaths = [os.path.join(Path, file_name) for file_name in os.listdir(Path)]\n",
    "    count = 0\n",
    "    for imagePath in imagePaths:\n",
    "        count += 1\n",
    "        img = Image.open(imagePath)\n",
    "        img_numpy = np.array(img, 'uint8')\n",
    "        gray = cv2.cvtColor(img_numpy, cv2.COLOR_BGR2GRAY)\n",
    "        cv2.imwrite(gpath[i] + str(count) + '.jpg', gray)\n",
    "print('All Done')"
   ]
  }
 ],
 "metadata": {
  "kernelspec": {
   "display_name": "Python 3 (ipykernel)",
   "language": "python",
   "name": "python3"
  },
  "language_info": {
   "codemirror_mode": {
    "name": "ipython",
    "version": 3
   },
   "file_extension": ".py",
   "mimetype": "text/x-python",
   "name": "python",
   "nbconvert_exporter": "python",
   "pygments_lexer": "ipython3",
   "version": "3.9.16"
  }
 },
 "nbformat": 4,
 "nbformat_minor": 5
}
